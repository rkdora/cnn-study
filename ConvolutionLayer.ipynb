{
 "cells": [
  {
   "cell_type": "code",
   "execution_count": 1,
   "metadata": {},
   "outputs": [],
   "source": [
    "import numpy as np\n",
    "import matplotlib.pyplot as plt\n",
    "%matplotlib inline"
   ]
  },
  {
   "cell_type": "code",
   "execution_count": 2,
   "metadata": {},
   "outputs": [],
   "source": [
    "class Conv:\n",
    "    def __init__(self, W):\n",
    "        self.W = W\n",
    "    def f_prop(self, X):\n",
    "        out = np.zeros((X.shape[0]-2, X.shape[1]-2))\n",
    "        for i in range(out.shape[0]):\n",
    "            for j in range(out.shape[1]):\n",
    "                x = X[i:i+3, j:j+3]\n",
    "                out[i, j] = np.dot(self.W.flatten(), x.flatten())\n",
    "        return out"
   ]
  },
  {
   "cell_type": "code",
   "execution_count": 4,
   "metadata": {},
   "outputs": [],
   "source": [
    "# 0\n",
    "X = np.array([[0,0,0,0,0,0,0,0,0,0],\n",
    "              [0,0,0,1,1,1,1,0,0,0],\n",
    "              [0,0,1,0,0,0,0,1,0,0],\n",
    "              [0,1,0,0,0,0,0,0,1,0],\n",
    "              [0,1,0,0,0,0,0,0,1,0],\n",
    "              [0,1,0,0,0,0,0,0,1,0],\n",
    "              [0,1,0,0,0,0,0,0,1,0],\n",
    "              [0,0,1,0,0,0,0,1,0,0],\n",
    "              [0,0,0,1,1,1,1,0,0,0],\n",
    "              [0,0,0,0,0,0,0,0,0,0]])"
   ]
  },
  {
   "cell_type": "code",
   "execution_count": 5,
   "metadata": {},
   "outputs": [
    {
     "data": {
      "image/png": "[encoded data removed]",
      "text/plain": [
       "<Figure size 432x288 with 1 Axes>"
      ]
     },
     "metadata": {
      "needs_background": "light"
     },
     "output_type": "display_data"
    }
   ],
   "source": [
    "plt.imshow(X)\n",
    "plt.title(\"base image\", fontsize=12)\n",
    "plt.show()"
   ]
  },
  {
   "cell_type": "code",
   "execution_count": 6,
   "metadata": {},
   "outputs": [],
   "source": [
    "# フィルター\n",
    "W1 = np.array([[0,1,0],\n",
    "               [0,1,0],\n",
    "               [0,1,0]])\n",
    "W2 = np.array([[0,0,0],\n",
    "               [1,1,1],\n",
    "               [0,0,0]])\n",
    "W3 = np.array([[1,0,0],\n",
    "               [0,1,0],\n",
    "               [0,0,1]])\n",
    "W4 = np.array([[0,0,1],\n",
    "               [0,1,0],\n",
    "               [1,0,0]])"
   ]
  },
  {
   "cell_type": "code",
   "execution_count": 8,
   "metadata": {},
   "outputs": [
    {
     "data": {
      "image/png": "[encoded data removed]",
      "text/plain": [
       "<Figure size 432x288 with 4 Axes>"
      ]
     },
     "metadata": {
      "needs_background": "light"
     },
     "output_type": "display_data"
    }
   ],
   "source": [
    "plt.subplot(1,4,1)\n",
    "plt.imshow(W1)\n",
    "plt.subplot(1,4,2)\n",
    "plt.imshow(W2)\n",
    "plt.subplot(1,4,3)\n",
    "plt.imshow(W3)\n",
    "plt.subplot(1,4,4)\n",
    "plt.imshow(W4)\n",
    "plt.suptitle(\"kernels\", fontsize=12)\n",
    "plt.show()"
   ]
  },
  {
   "cell_type": "code",
   "execution_count": 9,
   "metadata": {},
   "outputs": [],
   "source": [
    "# 畳み込み\n",
    "conv1 = Conv(W1)\n",
    "C1 = conv1.f_prop(X)\n",
    "\n",
    "conv2 = Conv(W2)\n",
    "C2 = conv2.f_prop(X)\n",
    "\n",
    "conv3 = Conv(W3)\n",
    "C3 = conv3.f_prop(X)\n",
    "\n",
    "conv4 = Conv(W4)\n",
    "C4 = conv4.f_prop(X)"
   ]
  },
  {
   "cell_type": "code",
   "execution_count": 10,
   "metadata": {},
   "outputs": [
    {
     "data": {
      "image/png": "[encoded data removed]",
      "text/plain": [
       "<Figure size 432x288 with 4 Axes>"
      ]
     },
     "metadata": {
      "needs_background": "light"
     },
     "output_type": "display_data"
    }
   ],
   "source": [
    "plt.subplot(1,4,1)\n",
    "plt.imshow(C1)\n",
    "plt.subplot(1,4,2)\n",
    "plt.imshow(C2)\n",
    "plt.subplot(1,4,3)\n",
    "plt.imshow(C3)\n",
    "plt.subplot(1,4,4)\n",
    "plt.imshow(C4)\n",
    "plt.suptitle(\"convolution results\", fontsize=12)\n",
    "plt.show()"
   ]
  },
  {
   "cell_type": "code",
   "execution_count": null,
   "metadata": {},
   "outputs": [],
   "source": []
  }
 ],
 "metadata": {
  "kernelspec": {
   "display_name": "Python 3",
   "language": "python",
   "name": "python3"
  },
  "language_info": {
   "codemirror_mode": {
    "name": "ipython",
    "version": 3
   },
   "file_extension": ".py",
   "mimetype": "text/x-python",
   "name": "python",
   "nbconvert_exporter": "python",
   "pygments_lexer": "ipython3",
   "version": "3.7.3"
  }
 },
 "nbformat": 4,
 "nbformat_minor": 2
}
