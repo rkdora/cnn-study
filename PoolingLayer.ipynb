{
 "cells": [
  {
   "cell_type": "code",
   "execution_count": 22,
   "metadata": {},
   "outputs": [],
   "source": [
    "import numpy as np\n",
    "import matplotlib.pyplot as plt\n",
    "%matplotlib inline"
   ]
  },
  {
   "cell_type": "code",
   "execution_count": 23,
   "metadata": {},
   "outputs": [],
   "source": [
    "class Conv:\n",
    "    def __init__(self, W):\n",
    "        self.W = W\n",
    "    def f_prop(self, X):\n",
    "#         print(\"Conv.f_prop X.shape\", X.shape)\n",
    "        out = np.zeros((X.shape[0]-2, X.shape[1]-2))\n",
    "#         print(\"Conv.f_prop out\", out)\n",
    "        for i in range(out.shape[0]):\n",
    "            for j in range(out.shape[1]):\n",
    "                x = X[i:i+3, j:j+3]\n",
    "                out[i, j] = np.dot(self.W.flatten(), x.flatten())\n",
    "        return out"
   ]
  },
  {
   "cell_type": "code",
   "execution_count": 24,
   "metadata": {},
   "outputs": [],
   "source": [
    "class Pool:\n",
    "    def __init__(self, l):\n",
    "        self.l = l\n",
    "    def f_prop(self, X):\n",
    "        l = self.l\n",
    "#         print(\"Pool.f_prop X.shape\", X.shape)\n",
    "        out = np.zeros((X.shape[0]//self.l, X.shape[1]//self.l))\n",
    "#         print(\"Pool.f_prop out\", out)\n",
    "        for i in range(out.shape[0]):\n",
    "            for j in range(out.shape[1]):\n",
    "                out[i,j] = np.max(X[i*l:(i+1)*l, j*l:(j+1)*l])\n",
    "        return out"
   ]
  },
  {
   "cell_type": "code",
   "execution_count": 25,
   "metadata": {},
   "outputs": [],
   "source": [
    "# 0\n",
    "X = np.array([[0,0,0,0,0,0,0,0,0,0],\n",
    "              [0,0,0,1,1,1,1,0,0,0],\n",
    "              [0,0,1,0,0,0,0,1,0,0],\n",
    "              [0,1,0,0,0,0,0,0,1,0],\n",
    "              [0,1,0,0,0,0,0,0,1,0],\n",
    "              [0,1,0,0,0,0,0,0,1,0],\n",
    "              [0,1,0,0,0,0,0,0,1,0],\n",
    "              [0,0,1,0,0,0,0,1,0,0],\n",
    "              [0,0,0,1,1,1,1,0,0,0],\n",
    "              [0,0,0,0,0,0,0,0,0,0]])"
   ]
  },
  {
   "cell_type": "code",
   "execution_count": 26,
   "metadata": {},
   "outputs": [
    {
     "data": {
      "image/png": "[encoded data removed]",
      "text/plain": [
       "<Figure size 432x288 with 1 Axes>"
      ]
     },
     "metadata": {
      "needs_background": "light"
     },
     "output_type": "display_data"
    }
   ],
   "source": [
    "plt.imshow(X)\n",
    "plt.title(\"base image\", fontsize=12)\n",
    "plt.show()"
   ]
  },
  {
   "cell_type": "code",
   "execution_count": 27,
   "metadata": {},
   "outputs": [],
   "source": [
    "# フィルター\n",
    "W1 = np.array([[0,1,0],\n",
    "               [0,1,0],\n",
    "               [0,1,0]])\n",
    "W2 = np.array([[0,0,0],\n",
    "               [1,1,1],\n",
    "               [0,0,0]])\n",
    "W3 = np.array([[1,0,0],\n",
    "               [0,1,0],\n",
    "               [0,0,1]])\n",
    "W4 = np.array([[0,0,1],\n",
    "               [0,1,0],\n",
    "               [1,0,0]])"
   ]
  },
  {
   "cell_type": "code",
   "execution_count": 28,
   "metadata": {},
   "outputs": [
    {
     "data": {
      "image/png": "[encoded data removed]",
      "text/plain": [
       "<Figure size 432x288 with 4 Axes>"
      ]
     },
     "metadata": {
      "needs_background": "light"
     },
     "output_type": "display_data"
    }
   ],
   "source": [
    "plt.subplot(1,4,1)\n",
    "plt.imshow(W1)\n",
    "plt.subplot(1,4,2)\n",
    "plt.imshow(W2)\n",
    "plt.subplot(1,4,3)\n",
    "plt.imshow(W3)\n",
    "plt.subplot(1,4,4)\n",
    "plt.imshow(W4)\n",
    "plt.suptitle(\"kernels\", fontsize=12)\n",
    "plt.show()"
   ]
  },
  {
   "cell_type": "code",
   "execution_count": 29,
   "metadata": {},
   "outputs": [],
   "source": [
    "# 畳み込み\n",
    "conv1 = Conv(W1)\n",
    "C1 = conv1.f_prop(X)\n",
    "\n",
    "conv2 = Conv(W2)\n",
    "C2 = conv2.f_prop(X)\n",
    "\n",
    "conv3 = Conv(W3)\n",
    "C3 = conv3.f_prop(X)\n",
    "\n",
    "conv4 = Conv(W4)\n",
    "C4 = conv4.f_prop(X)"
   ]
  },
  {
   "cell_type": "code",
   "execution_count": 30,
   "metadata": {},
   "outputs": [
    {
     "data": {
      "image/png": "[encoded data removed]",
      "text/plain": [
       "<Figure size 432x288 with 4 Axes>"
      ]
     },
     "metadata": {
      "needs_background": "light"
     },
     "output_type": "display_data"
    }
   ],
   "source": [
    "plt.subplot(1,4,1)\n",
    "plt.imshow(C1)\n",
    "plt.subplot(1,4,2)\n",
    "plt.imshow(C2)\n",
    "plt.subplot(1,4,3)\n",
    "plt.imshow(C3)\n",
    "plt.subplot(1,4,4)\n",
    "plt.imshow(C4)\n",
    "plt.suptitle(\"convolution results\", fontsize=12)\n",
    "plt.show()"
   ]
  },
  {
   "cell_type": "code",
   "execution_count": 31,
   "metadata": {},
   "outputs": [],
   "source": [
    "# プーリング\n",
    "pool = Pool(2)\n",
    "P1 = pool.f_prop(C1)\n",
    "P2 = pool.f_prop(C2)\n",
    "P3 = pool.f_prop(C3)\n",
    "P4 = pool.f_prop(C4)"
   ]
  },
  {
   "cell_type": "code",
   "execution_count": 32,
   "metadata": {},
   "outputs": [
    {
     "data": {
      "image/png": "[encoded data removed]",
      "text/plain": [
       "<Figure size 432x288 with 4 Axes>"
      ]
     },
     "metadata": {
      "needs_background": "light"
     },
     "output_type": "display_data"
    }
   ],
   "source": [
    "plt.subplot(1,4,1); plt.imshow(P1)\n",
    "plt.subplot(1,4,2); plt.imshow(P2)\n",
    "plt.subplot(1,4,3); plt.imshow(P3)\n",
    "plt.subplot(1,4,4); plt.imshow(P4)\n",
    "plt.suptitle(\"pooling results\", fontsize=12)\n",
    "plt.show()"
   ]
  },
  {
   "cell_type": "code",
   "execution_count": null,
   "metadata": {},
   "outputs": [],
   "source": []
  }
 ],
 "metadata": {
  "kernelspec": {
   "display_name": "Python 3",
   "language": "python",
   "name": "python3"
  },
  "language_info": {
   "codemirror_mode": {
    "name": "ipython",
    "version": 3
   },
   "file_extension": ".py",
   "mimetype": "text/x-python",
   "name": "python",
   "nbconvert_exporter": "python",
   "pygments_lexer": "ipython3",
   "version": "3.7.3"
  }
 },
 "nbformat": 4,
 "nbformat_minor": 2
}
